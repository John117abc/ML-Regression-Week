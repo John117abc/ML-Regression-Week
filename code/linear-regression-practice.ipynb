{
 "cells": [
  {
   "metadata": {},
   "cell_type": "markdown",
   "source": "## 波士顿房价数据处理的练习，第一遍",
   "id": "fa7985ee053be387"
  },
  {
   "metadata": {
    "ExecuteTime": {
     "end_time": "2025-10-31T08:06:55.203084Z",
     "start_time": "2025-10-31T08:06:54.992756Z"
    }
   },
   "cell_type": "code",
   "source": [
    "import numpy as np\n",
    "import pandas as pd\n",
    "from sklearn.model_selection import train_test_split\n",
    "\n",
    "SEED = 20\n",
    "\n",
    "# 从本地文件读取数据\n",
    "train_house_data = pd.read_csv('D:\\\\研究生\\\\机器学习\\\\线性回归数据集\\\\house_price\\\\train.csv')\n",
    "test_house_data = pd.read_csv('D:\\\\研究生\\\\机器学习\\\\线性回归数据集\\\\house_price\\\\test.csv')\n",
    "\n",
    "# 对训练数据和测试数据进行统一处理\n",
    "all_features = pd.concat([train_house_data.iloc[:,1:-1],test_house_data.iloc[:,1:]],ignore_index=True,axis=0)\n",
    "\n",
    "# 对数字的特征进行处理，把空值填为每列的平均值，再做标准化\n",
    "number_columns = all_features.dtypes[all_features.dtypes != 'object'].index\n",
    "all_features[number_columns] = all_features[number_columns].fillna(all_features[number_columns].mean())\n",
    "all_features[number_columns] = all_features[number_columns].apply(lambda x: (x - x.mean())/(x.std()))\n",
    "\n",
    "# 对非数字类型的特征生成热度编码\n",
    "all_features = pd.get_dummies(all_features,dummy_na = True)\n",
    "\n",
    "# 对训练数据和测试数据进行分割\n",
    "n_train = train_house_data.shape[0]\n",
    "train_data = all_features.iloc[:n_train,:].values.astype(np.float32)\n",
    "test_data = all_features.iloc[n_train:,:].values.astype(np.float32)\n",
    "train_data_label = train_house_data.loc[:,['SalePrice']].values.astype(np.float32)\n",
    "\n",
    "# 切分训练集/验证集\n",
    "# 目的：从训练集再划出一部分做验证，监控过拟合。\n",
    "X_train , X_valid ,y_train ,y_valid = train_test_split(train_data,train_data_label,test_size=0.2, random_state=SEED)\n",
    "\n"
   ],
   "id": "e7f27374063eed15",
   "outputs": [],
   "execution_count": 41
  },
  {
   "metadata": {},
   "cell_type": "markdown",
   "source": "## 波士顿房价数据处理的练习，第二遍",
   "id": "7f36f867201cd994"
  },
  {
   "metadata": {
    "ExecuteTime": {
     "end_time": "2025-10-31T08:25:43.479772Z",
     "start_time": "2025-10-31T08:25:43.319435Z"
    }
   },
   "cell_type": "code",
   "source": [
    "import pandas as pd\n",
    "import numpy as np\n",
    "from sklearn.model_selection import train_test_split\n",
    "\n",
    "SEED = 20\n",
    "# 读取测试训练数据和测试数据\n",
    "train_ori_data = pd.read_csv('D:\\\\研究生\\\\机器学习\\\\线性回归数据集\\\\house_price\\\\train.csv')\n",
    "test_ori_data = pd.read_csv('D:\\\\研究生\\\\机器学习\\\\线性回归数据集\\\\house_price\\\\test.csv')\n",
    "\n",
    "# 把训练数据和测试数据拼接到一起进行预处理\n",
    "all_features = pd.concat([train_ori_data.iloc[:,1:-1],test_ori_data.iloc[:,1:]],ignore_index=True,axis=0)\n",
    "\n",
    "# 处理特征中的数字\n",
    "# 先选出数字列\n",
    "number_columns = all_features.dtypes[all_features.dtypes != 'object'].index\n",
    "# 对于数字列中为空的填充平均值\n",
    "all_features[number_columns] = all_features[number_columns].fillna(all_features[number_columns].mean())\n",
    "# 再做标准化\n",
    "all_features[number_columns] = all_features[number_columns].apply(lambda x: (x - x.mean())/x.std())\n",
    "\n",
    "# 进行热独编码\n",
    "all_features = pd.get_dummies(all_features,dummy_na = True)\n",
    "\n",
    "#拆分训练数据和测试数据\n",
    "n_sample = train_ori_data.shape[0]\n",
    "train_data = all_features.iloc[:n_sample,:].values.astype(np.float32)\n",
    "test_data = all_features.iloc[n_sample:,:].values.astype(np.float32)\n",
    "train_label = train_ori_data.loc[:,['SalePrice']]\n",
    "\n",
    "# 训练集进行划分\n",
    "X_train,X_valid,y_train,y_valid = train_test_split(train_data,train_data_label,test_size=0.2,random_state=SEED)"
   ],
   "id": "a39540ada7aa81bf",
   "outputs": [
    {
     "name": "stdout",
     "output_type": "stream",
     "text": [
      "[[-0.16787669 -0.7181657  -0.48511675 ...  1.          0.\n",
      "   0.        ]\n",
      " [-0.8734664   0.5017845  -0.06569219 ...  1.          0.\n",
      "   0.        ]\n",
      " [-0.16787669  0.         -0.3997864  ...  1.          0.\n",
      "   0.        ]\n",
      " ...\n",
      " [-0.8734664   0.17333637  3.6688094  ...  1.          0.\n",
      "   0.        ]\n",
      " [ 1.4784993  -1.3281407  -0.61342925 ...  1.          0.\n",
      "   0.        ]\n",
      " [ 0.537713    0.17333637 -0.05491496 ...  1.          0.\n",
      "   0.        ]]\n"
     ]
    }
   ],
   "execution_count": 52
  }
 ],
 "metadata": {
  "kernelspec": {
   "display_name": "Python 3",
   "language": "python",
   "name": "python3"
  },
  "language_info": {
   "codemirror_mode": {
    "name": "ipython",
    "version": 2
   },
   "file_extension": ".py",
   "mimetype": "text/x-python",
   "name": "python",
   "nbconvert_exporter": "python",
   "pygments_lexer": "ipython2",
   "version": "2.7.6"
  }
 },
 "nbformat": 4,
 "nbformat_minor": 5
}
